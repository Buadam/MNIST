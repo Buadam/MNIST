{
 "cells": [
  {
   "cell_type": "markdown",
   "metadata": {},
   "source": [
    "# Import modules"
   ]
  },
  {
   "cell_type": "code",
   "execution_count": 2,
   "metadata": {},
   "outputs": [],
   "source": [
    "import numpy as np\n",
    "import pandas as pd\n",
    "from matplotlib import pyplot as plt\n",
    "from sklearn.model_selection import train_test_split"
   ]
  },
  {
   "cell_type": "markdown",
   "metadata": {},
   "source": [
    "# Define a function for displaying misclassified digits"
   ]
  },
  {
   "cell_type": "code",
   "execution_count": 3,
   "metadata": {},
   "outputs": [],
   "source": [
    "def show_mistakes(y_pred, Y_cv):\n",
    "    \"\"\"\n",
    "    This function displays 5 random misclassified digits after the prediction by a model. \n",
    "    Inputs: y_pred: predicted labels np.ndarray\n",
    "            Y_cv: validation dataset np.ndarray\n",
    "    Outputs: displays a 5-subplot figure with misclassified digits\n",
    "    \"\"\"\n",
    "    ind = np.array(np.where(y_pred != Y_cv))\n",
    "    n_mist = ind.size\n",
    "    ind_rnd = np.random.randint(0, n_mist-1, size=5)\n",
    "\n",
    "    fig, axes = plt.subplots(1,5, figsize=(20,5))\n",
    "    for i in range(5):\n",
    "        axes[i].imshow(np.reshape(np.array(X_cv)[ind[0,i],:], (28,28)), cmap='gray')\n",
    "        axes[i].set_title(\"Prediction: {:d}\" .format(y_pred[ind[0,i]]))"
   ]
  },
  {
   "cell_type": "markdown",
   "metadata": {},
   "source": [
    "# Load and visualize image set"
   ]
  },
  {
   "cell_type": "code",
   "execution_count": 4,
   "metadata": {},
   "outputs": [],
   "source": [
    "test_data = pd.read_csv('test.csv')\n",
    "train_data = pd.read_csv('train.csv')"
   ]
  },
  {
   "cell_type": "code",
   "execution_count": 5,
   "metadata": {},
   "outputs": [
    {
     "data": {
      "text/html": [
       "<div>\n",
       "<style scoped>\n",
       "    .dataframe tbody tr th:only-of-type {\n",
       "        vertical-align: middle;\n",
       "    }\n",
       "\n",
       "    .dataframe tbody tr th {\n",
       "        vertical-align: top;\n",
       "    }\n",
       "\n",
       "    .dataframe thead th {\n",
       "        text-align: right;\n",
       "    }\n",
       "</style>\n",
       "<table border=\"1\" class=\"dataframe\">\n",
       "  <thead>\n",
       "    <tr style=\"text-align: right;\">\n",
       "      <th></th>\n",
       "      <th>label</th>\n",
       "      <th>pixel0</th>\n",
       "      <th>pixel1</th>\n",
       "      <th>pixel2</th>\n",
       "      <th>pixel3</th>\n",
       "      <th>pixel4</th>\n",
       "      <th>pixel5</th>\n",
       "      <th>pixel6</th>\n",
       "      <th>pixel7</th>\n",
       "      <th>pixel8</th>\n",
       "      <th>...</th>\n",
       "      <th>pixel774</th>\n",
       "      <th>pixel775</th>\n",
       "      <th>pixel776</th>\n",
       "      <th>pixel777</th>\n",
       "      <th>pixel778</th>\n",
       "      <th>pixel779</th>\n",
       "      <th>pixel780</th>\n",
       "      <th>pixel781</th>\n",
       "      <th>pixel782</th>\n",
       "      <th>pixel783</th>\n",
       "    </tr>\n",
       "  </thead>\n",
       "  <tbody>\n",
       "    <tr>\n",
       "      <th>10469</th>\n",
       "      <td>2</td>\n",
       "      <td>0</td>\n",
       "      <td>0</td>\n",
       "      <td>0</td>\n",
       "      <td>0</td>\n",
       "      <td>0</td>\n",
       "      <td>0</td>\n",
       "      <td>0</td>\n",
       "      <td>0</td>\n",
       "      <td>0</td>\n",
       "      <td>...</td>\n",
       "      <td>0</td>\n",
       "      <td>0</td>\n",
       "      <td>0</td>\n",
       "      <td>0</td>\n",
       "      <td>0</td>\n",
       "      <td>0</td>\n",
       "      <td>0</td>\n",
       "      <td>0</td>\n",
       "      <td>0</td>\n",
       "      <td>0</td>\n",
       "    </tr>\n",
       "    <tr>\n",
       "      <th>35239</th>\n",
       "      <td>9</td>\n",
       "      <td>0</td>\n",
       "      <td>0</td>\n",
       "      <td>0</td>\n",
       "      <td>0</td>\n",
       "      <td>0</td>\n",
       "      <td>0</td>\n",
       "      <td>0</td>\n",
       "      <td>0</td>\n",
       "      <td>0</td>\n",
       "      <td>...</td>\n",
       "      <td>0</td>\n",
       "      <td>0</td>\n",
       "      <td>0</td>\n",
       "      <td>0</td>\n",
       "      <td>0</td>\n",
       "      <td>0</td>\n",
       "      <td>0</td>\n",
       "      <td>0</td>\n",
       "      <td>0</td>\n",
       "      <td>0</td>\n",
       "    </tr>\n",
       "    <tr>\n",
       "      <th>1176</th>\n",
       "      <td>2</td>\n",
       "      <td>0</td>\n",
       "      <td>0</td>\n",
       "      <td>0</td>\n",
       "      <td>0</td>\n",
       "      <td>0</td>\n",
       "      <td>0</td>\n",
       "      <td>0</td>\n",
       "      <td>0</td>\n",
       "      <td>0</td>\n",
       "      <td>...</td>\n",
       "      <td>0</td>\n",
       "      <td>0</td>\n",
       "      <td>0</td>\n",
       "      <td>0</td>\n",
       "      <td>0</td>\n",
       "      <td>0</td>\n",
       "      <td>0</td>\n",
       "      <td>0</td>\n",
       "      <td>0</td>\n",
       "      <td>0</td>\n",
       "    </tr>\n",
       "    <tr>\n",
       "      <th>16242</th>\n",
       "      <td>3</td>\n",
       "      <td>0</td>\n",
       "      <td>0</td>\n",
       "      <td>0</td>\n",
       "      <td>0</td>\n",
       "      <td>0</td>\n",
       "      <td>0</td>\n",
       "      <td>0</td>\n",
       "      <td>0</td>\n",
       "      <td>0</td>\n",
       "      <td>...</td>\n",
       "      <td>0</td>\n",
       "      <td>0</td>\n",
       "      <td>0</td>\n",
       "      <td>0</td>\n",
       "      <td>0</td>\n",
       "      <td>0</td>\n",
       "      <td>0</td>\n",
       "      <td>0</td>\n",
       "      <td>0</td>\n",
       "      <td>0</td>\n",
       "    </tr>\n",
       "    <tr>\n",
       "      <th>918</th>\n",
       "      <td>8</td>\n",
       "      <td>0</td>\n",
       "      <td>0</td>\n",
       "      <td>0</td>\n",
       "      <td>0</td>\n",
       "      <td>0</td>\n",
       "      <td>0</td>\n",
       "      <td>0</td>\n",
       "      <td>0</td>\n",
       "      <td>0</td>\n",
       "      <td>...</td>\n",
       "      <td>0</td>\n",
       "      <td>0</td>\n",
       "      <td>0</td>\n",
       "      <td>0</td>\n",
       "      <td>0</td>\n",
       "      <td>0</td>\n",
       "      <td>0</td>\n",
       "      <td>0</td>\n",
       "      <td>0</td>\n",
       "      <td>0</td>\n",
       "    </tr>\n",
       "  </tbody>\n",
       "</table>\n",
       "<p>5 rows × 785 columns</p>\n",
       "</div>"
      ],
      "text/plain": [
       "       label  pixel0  pixel1  pixel2  pixel3  pixel4  pixel5  pixel6  pixel7  \\\n",
       "10469      2       0       0       0       0       0       0       0       0   \n",
       "35239      9       0       0       0       0       0       0       0       0   \n",
       "1176       2       0       0       0       0       0       0       0       0   \n",
       "16242      3       0       0       0       0       0       0       0       0   \n",
       "918        8       0       0       0       0       0       0       0       0   \n",
       "\n",
       "       pixel8    ...     pixel774  pixel775  pixel776  pixel777  pixel778  \\\n",
       "10469       0    ...            0         0         0         0         0   \n",
       "35239       0    ...            0         0         0         0         0   \n",
       "1176        0    ...            0         0         0         0         0   \n",
       "16242       0    ...            0         0         0         0         0   \n",
       "918         0    ...            0         0         0         0         0   \n",
       "\n",
       "       pixel779  pixel780  pixel781  pixel782  pixel783  \n",
       "10469         0         0         0         0         0  \n",
       "35239         0         0         0         0         0  \n",
       "1176          0         0         0         0         0  \n",
       "16242         0         0         0         0         0  \n",
       "918           0         0         0         0         0  \n",
       "\n",
       "[5 rows x 785 columns]"
      ]
     },
     "execution_count": 5,
     "metadata": {},
     "output_type": "execute_result"
    }
   ],
   "source": [
    "train_data.sample(5)"
   ]
  },
  {
   "cell_type": "markdown",
   "metadata": {},
   "source": [
    "# Select and normalize features"
   ]
  },
  {
   "cell_type": "code",
   "execution_count": 6,
   "metadata": {},
   "outputs": [],
   "source": [
    "X_train = train_data.drop('label', axis=1)/255\n",
    "Y_train = train_data['label']\n",
    "X_test = test_data/255"
   ]
  },
  {
   "cell_type": "code",
   "execution_count": 7,
   "metadata": {},
   "outputs": [
    {
     "name": "stdout",
     "output_type": "stream",
     "text": [
      "42000\n"
     ]
    }
   ],
   "source": [
    "m_train = len(Y_train)\n",
    "print(m_train)"
   ]
  },
  {
   "cell_type": "markdown",
   "metadata": {},
   "source": [
    "# Resahpe train and test sets to 2d image formats (28x28)"
   ]
  },
  {
   "cell_type": "code",
   "execution_count": 8,
   "metadata": {},
   "outputs": [
    {
     "data": {
      "image/png": "[encoded data removed]",
      "text/plain": [
       "<Figure size 1440x360 with 5 Axes>"
      ]
     },
     "metadata": {
      "needs_background": "light"
     },
     "output_type": "display_data"
    }
   ],
   "source": [
    "m_train = X_train.shape[0]\n",
    "m_test = X_test.shape[0]\n",
    "X_train_img = np.array(X_train).reshape((m_train,28,28,1))\n",
    "X_test_img = np.array(X_test).reshape((m_test,28,28,1))\n",
    "\n",
    "# Visualize some random images from the training set\n",
    "ind = np.random.randint(0, m_train-1, size=(5))\n",
    "fig, axes = plt.subplots(1,5, figsize=(20,5))\n",
    "for i in range(5):\n",
    "    axes[i].imshow(X_train_img[ind[i],:,:,0], cmap='gray')\n",
    "    axes[i].set_title(\"Label: {:d}\" .format(Y_train[ind[i]]))"
   ]
  },
  {
   "cell_type": "markdown",
   "metadata": {},
   "source": [
    "# Split train and cross-validation data for later assessment"
   ]
  },
  {
   "cell_type": "code",
   "execution_count": 9,
   "metadata": {},
   "outputs": [],
   "source": [
    "X_tr, X_cv, Y_tr, Y_cv = train_test_split(X_train_img, Y_train, test_size=0.2, random_state=42)"
   ]
  },
  {
   "cell_type": "markdown",
   "metadata": {},
   "source": [
    "## Convert labels to one-hot vectors"
   ]
  },
  {
   "cell_type": "code",
   "execution_count": 11,
   "metadata": {},
   "outputs": [],
   "source": [
    "Y_train_ohe = to_categorical(Y_train, num_classes=10)\n",
    "Y_tr_ohe = to_categorical(Y_tr, num_classes=10)\n",
    "Y_cv_ohe = to_categorical(Y_cv, num_classes=10)"
   ]
  },
  {
   "cell_type": "markdown",
   "metadata": {},
   "source": [
    "## Build CNN model"
   ]
  },
  {
   "cell_type": "code",
   "execution_count": 15,
   "metadata": {},
   "outputs": [],
   "source": [
    "from keras.models import Sequential\n",
    "from keras.layers import Dense, Dropout, Flatten, Activation\n",
    "from keras.layers import Conv2D, MaxPooling2D, BatchNormalization\n",
    "from keras.utils import to_categorical\n",
    "from keras.callbacks import EarlyStopping"
   ]
  },
  {
   "cell_type": "code",
   "execution_count": 18,
   "metadata": {},
   "outputs": [],
   "source": [
    "def CnnModel():\n",
    "    cnn_model = Sequential()\n",
    "    cnn_model.add(Conv2D(32, (3, 3), activation='relu', input_shape=(28, 28, 1)))\n",
    "    cnn_model.add(Conv2D(64, (3, 3), activation='relu'))\n",
    "    cnn_model.add(BatchNormalization())\n",
    "    cnn_model.add(MaxPooling2D(pool_size=(2, 2)))\n",
    "    cnn_model.add(Conv2D(128, (3, 3), activation='relu'))\n",
    "    cnn_model.add(MaxPooling2D(pool_size=(2, 2)))\n",
    "    cnn_model.add(Flatten())\n",
    "    cnn_model.add(Dense(32, activation='relu'))\n",
    "    cnn_model.add(Dense(10, activation='softmax'))\n",
    "\n",
    "    cnn_model.summary()\n",
    "    return cnn_model"
   ]
  },
  {
   "cell_type": "code",
   "execution_count": 19,
   "metadata": {},
   "outputs": [
    {
     "name": "stdout",
     "output_type": "stream",
     "text": [
      "_________________________________________________________________\n",
      "Layer (type)                 Output Shape              Param #   \n",
      "=================================================================\n",
      "conv2d_4 (Conv2D)            (None, 26, 26, 32)        320       \n",
      "_________________________________________________________________\n",
      "conv2d_5 (Conv2D)            (None, 24, 24, 64)        18496     \n",
      "_________________________________________________________________\n",
      "batch_normalization_2 (Batch (None, 24, 24, 64)        256       \n",
      "_________________________________________________________________\n",
      "max_pooling2d_3 (MaxPooling2 (None, 12, 12, 64)        0         \n",
      "_________________________________________________________________\n",
      "conv2d_6 (Conv2D)            (None, 10, 10, 128)       73856     \n",
      "_________________________________________________________________\n",
      "max_pooling2d_4 (MaxPooling2 (None, 5, 5, 128)         0         \n",
      "_________________________________________________________________\n",
      "flatten_2 (Flatten)          (None, 3200)              0         \n",
      "_________________________________________________________________\n",
      "dense_3 (Dense)              (None, 32)                102432    \n",
      "_________________________________________________________________\n",
      "dense_4 (Dense)              (None, 10)                330       \n",
      "=================================================================\n",
      "Total params: 195,690\n",
      "Trainable params: 195,562\n",
      "Non-trainable params: 128\n",
      "_________________________________________________________________\n"
     ]
    }
   ],
   "source": [
    "cnn_model_1 = CnnModel()"
   ]
  },
  {
   "cell_type": "code",
   "execution_count": 20,
   "metadata": {},
   "outputs": [],
   "source": [
    "cnn_model_1.compile(optimizer='adam', loss='categorical_crossentropy', metrics=['accuracy'])"
   ]
  },
  {
   "cell_type": "markdown",
   "metadata": {},
   "source": [
    "## Monitor validation loss to prevent over- and underfitting"
   ]
  },
  {
   "cell_type": "code",
   "execution_count": 21,
   "metadata": {},
   "outputs": [],
   "source": [
    "es = EarlyStopping(monitor='val_loss', patience=5, restore_best_weights=True)"
   ]
  },
  {
   "cell_type": "code",
   "execution_count": 22,
   "metadata": {},
   "outputs": [
    {
     "name": "stdout",
     "output_type": "stream",
     "text": [
      "Train on 33600 samples, validate on 8400 samples\n",
      "Epoch 1/50\n",
      " - 480s - loss: 0.1455 - acc: 0.9558 - val_loss: 0.0586 - val_acc: 0.9800\n",
      "Epoch 2/50\n",
      " - 430s - loss: 0.0511 - acc: 0.9851 - val_loss: 0.0495 - val_acc: 0.9869\n",
      "Epoch 3/50\n",
      " - 411s - loss: 0.0358 - acc: 0.9888 - val_loss: 0.0426 - val_acc: 0.9875\n",
      "Epoch 4/50\n",
      " - 409s - loss: 0.0288 - acc: 0.9913 - val_loss: 0.0402 - val_acc: 0.9885\n",
      "Epoch 5/50\n",
      " - 405s - loss: 0.0196 - acc: 0.9939 - val_loss: 0.0487 - val_acc: 0.9889\n",
      "Epoch 6/50\n",
      " - 413s - loss: 0.0200 - acc: 0.9937 - val_loss: 0.0464 - val_acc: 0.9900\n",
      "Epoch 7/50\n",
      " - 396s - loss: 0.0167 - acc: 0.9952 - val_loss: 0.0516 - val_acc: 0.9890\n",
      "Epoch 8/50\n",
      " - 312s - loss: 0.0141 - acc: 0.9953 - val_loss: 0.0454 - val_acc: 0.9892\n",
      "Epoch 9/50\n",
      " - 279s - loss: 0.0146 - acc: 0.9956 - val_loss: 0.0816 - val_acc: 0.9858\n"
     ]
    },
    {
     "data": {
      "text/plain": [
       "<keras.callbacks.History at 0x2337784ea90>"
      ]
     },
     "execution_count": 22,
     "metadata": {},
     "output_type": "execute_result"
    }
   ],
   "source": [
    "cnn_model_1.fit(X_train_img, Y_train_ohe, validation_split=0.2, epochs=50, batch_size=32, verbose=2, callbacks=[es])"
   ]
  },
  {
   "cell_type": "code",
   "execution_count": 23,
   "metadata": {},
   "outputs": [
    {
     "name": "stdout",
     "output_type": "stream",
     "text": [
      "Model saved to disk\n"
     ]
    }
   ],
   "source": [
    "cnn_model.save_weights(\"cnn_model_1.h5\")\n",
    "print(\"Model saved to disk\")"
   ]
  },
  {
   "cell_type": "code",
   "execution_count": 25,
   "metadata": {},
   "outputs": [
    {
     "data": {
      "image/png": "[encoded data removed]",
      "text/plain": [
       "<Figure size 432x288 with 1 Axes>"
      ]
     },
     "metadata": {
      "needs_background": "light"
     },
     "output_type": "display_data"
    }
   ],
   "source": [
    "plt.plot(cnn_model_1.history.history[\"acc\"])\n",
    "plt.plot(cnn_model_1.history.history[\"val_acc\"])\n",
    "plt.show()"
   ]
  },
  {
   "cell_type": "markdown",
   "metadata": {},
   "source": [
    "## Check accuracy on validation data"
   ]
  },
  {
   "cell_type": "code",
   "execution_count": 26,
   "metadata": {},
   "outputs": [
    {
     "name": "stdout",
     "output_type": "stream",
     "text": [
      "Accuracy =  0.9936904761904762\n"
     ]
    },
    {
     "data": {
      "image/png": "[encoded data removed]",
      "text/plain": [
       "<Figure size 1440x360 with 5 Axes>"
      ]
     },
     "metadata": {
      "needs_background": "light"
     },
     "output_type": "display_data"
    }
   ],
   "source": [
    "y_pred = np.argmax(cnn_model_1.predict(np.array(X_cv)), axis=1)\n",
    "acc = np.sum(y_pred==Y_cv)/Y_cv.size\n",
    "print(\"Accuracy = \", acc)\n",
    "\n",
    "show_mistakes(y_pred, Y_cv)"
   ]
  },
  {
   "cell_type": "code",
   "execution_count": 27,
   "metadata": {},
   "outputs": [
    {
     "name": "stdout",
     "output_type": "stream",
     "text": [
      "         label\n",
      "ImageId       \n",
      "1            2\n",
      "2            0\n",
      "3            9\n",
      "4            9\n",
      "5            3\n"
     ]
    }
   ],
   "source": [
    "y_test_pred_ohe = cnn_model_1.predict(X_test_img)\n",
    "y_test_pred = np.argmax(y_test_pred_ohe, axis=1)\n",
    "submission = pd.DataFrame({\"ImageId\": np.arange(y_test_pred.size)+1, \"label\": y_test_pred})\n",
    "submission.set_index(\"ImageId\", inplace=True)\n",
    "print(submission.head())\n",
    "submission.to_csv('submission_MNIST_CNN2.csv')"
   ]
  },
  {
   "cell_type": "markdown",
   "metadata": {},
   "source": [
    "# Data augmentation and early stopping"
   ]
  },
  {
   "cell_type": "code",
   "execution_count": 28,
   "metadata": {},
   "outputs": [],
   "source": [
    "from keras.preprocessing.image import ImageDataGenerator\n",
    "from keras.callbacks import EarlyStopping"
   ]
  },
  {
   "cell_type": "code",
   "execution_count": 29,
   "metadata": {},
   "outputs": [],
   "source": [
    "datagen = ImageDataGenerator(\n",
    "    rotation_range=20,\n",
    "    width_shift_range=0.1,\n",
    "    height_shift_range=0.1,\n",
    "    shear_range=0.1,\n",
    "    zoom_range=0.1)"
   ]
  },
  {
   "cell_type": "code",
   "execution_count": 30,
   "metadata": {},
   "outputs": [],
   "source": [
    "datagen.fit(X_tr)"
   ]
  },
  {
   "cell_type": "markdown",
   "metadata": {},
   "source": [
    "# Visualize augmented images"
   ]
  },
  {
   "cell_type": "code",
   "execution_count": 43,
   "metadata": {},
   "outputs": [
    {
     "data": {
      "image/png": "[encoded data removed]",
      "text/plain": [
       "<Figure size 1440x360 with 5 Axes>"
      ]
     },
     "metadata": {
      "needs_background": "light"
     },
     "output_type": "display_data"
    }
   ],
   "source": [
    "aug_test = datagen.flow(X_tr, Y_tr_ohe, batch_size=5)\n",
    "fig, axes = plt.subplots(1,5, figsize=(20,5))\n",
    "for i in range(aug_test[0][0].shape[0]):\n",
    "    axes[i].imshow(aug_test[0][0][i,:,:,0], cmap='gray')\n",
    "#    axes[i].set_title(\"Label: {:d}\" .format(np.argmax(aug_test[0][i])))"
   ]
  },
  {
   "cell_type": "code",
   "execution_count": 32,
   "metadata": {},
   "outputs": [
    {
     "name": "stdout",
     "output_type": "stream",
     "text": [
      "_________________________________________________________________\n",
      "Layer (type)                 Output Shape              Param #   \n",
      "=================================================================\n",
      "conv2d_7 (Conv2D)            (None, 26, 26, 32)        320       \n",
      "_________________________________________________________________\n",
      "conv2d_8 (Conv2D)            (None, 24, 24, 64)        18496     \n",
      "_________________________________________________________________\n",
      "batch_normalization_3 (Batch (None, 24, 24, 64)        256       \n",
      "_________________________________________________________________\n",
      "max_pooling2d_5 (MaxPooling2 (None, 12, 12, 64)        0         \n",
      "_________________________________________________________________\n",
      "conv2d_9 (Conv2D)            (None, 10, 10, 128)       73856     \n",
      "_________________________________________________________________\n",
      "max_pooling2d_6 (MaxPooling2 (None, 5, 5, 128)         0         \n",
      "_________________________________________________________________\n",
      "flatten_3 (Flatten)          (None, 3200)              0         \n",
      "_________________________________________________________________\n",
      "dense_5 (Dense)              (None, 32)                102432    \n",
      "_________________________________________________________________\n",
      "dense_6 (Dense)              (None, 10)                330       \n",
      "=================================================================\n",
      "Total params: 195,690\n",
      "Trainable params: 195,562\n",
      "Non-trainable params: 128\n",
      "_________________________________________________________________\n"
     ]
    }
   ],
   "source": [
    "cnn_model_augm = CnnModel()"
   ]
  },
  {
   "cell_type": "code",
   "execution_count": 44,
   "metadata": {},
   "outputs": [],
   "source": [
    "cnn_model_augm.compile(optimizer='adam', loss='categorical_crossentropy', metrics=['accuracy'])"
   ]
  },
  {
   "cell_type": "code",
   "execution_count": 45,
   "metadata": {},
   "outputs": [],
   "source": [
    "es = EarlyStopping(monitor='val_loss', patience=20, restore_best_weights=True)"
   ]
  },
  {
   "cell_type": "code",
   "execution_count": 46,
   "metadata": {},
   "outputs": [
    {
     "name": "stdout",
     "output_type": "stream",
     "text": [
      "Epoch 1/50\n",
      " - 353s - loss: 0.0865 - acc: 0.9736 - val_loss: 0.0463 - val_acc: 0.9867\n",
      "Epoch 2/50\n",
      " - 296s - loss: 0.0726 - acc: 0.9781 - val_loss: 0.0673 - val_acc: 0.9821\n",
      "Epoch 3/50\n",
      " - 292s - loss: 0.0689 - acc: 0.9790 - val_loss: 0.0407 - val_acc: 0.9885\n",
      "Epoch 4/50\n",
      " - 313s - loss: 0.0625 - acc: 0.9809 - val_loss: 0.0394 - val_acc: 0.9880\n",
      "Epoch 5/50\n",
      " - 377s - loss: 0.0612 - acc: 0.9823 - val_loss: 0.0416 - val_acc: 0.9882\n",
      "Epoch 6/50\n",
      " - 359s - loss: 0.0572 - acc: 0.9833 - val_loss: 0.0323 - val_acc: 0.9910\n",
      "Epoch 7/50\n",
      " - 367s - loss: 0.0534 - acc: 0.9841 - val_loss: 0.0408 - val_acc: 0.9881\n",
      "Epoch 8/50\n",
      " - 346s - loss: 0.0491 - acc: 0.9850 - val_loss: 0.0523 - val_acc: 0.9877\n",
      "Epoch 9/50\n",
      " - 422s - loss: 0.0506 - acc: 0.9854 - val_loss: 0.0346 - val_acc: 0.9915\n",
      "Epoch 10/50\n",
      " - 399s - loss: 0.0464 - acc: 0.9857 - val_loss: 0.0289 - val_acc: 0.9919\n",
      "Epoch 11/50\n",
      " - 372s - loss: 0.0458 - acc: 0.9862 - val_loss: 0.0319 - val_acc: 0.9905\n",
      "Epoch 12/50\n",
      " - 359s - loss: 0.0430 - acc: 0.9868 - val_loss: 0.0450 - val_acc: 0.9898\n",
      "Epoch 13/50\n",
      " - 370s - loss: 0.0425 - acc: 0.9875 - val_loss: 0.0468 - val_acc: 0.9889\n",
      "Epoch 14/50\n",
      " - 335s - loss: 0.0421 - acc: 0.9879 - val_loss: 0.0476 - val_acc: 0.9877\n",
      "Epoch 15/50\n",
      " - 293s - loss: 0.0413 - acc: 0.9882 - val_loss: 0.0394 - val_acc: 0.9900\n",
      "Epoch 16/50\n",
      " - 348s - loss: 0.0401 - acc: 0.9876 - val_loss: 0.0315 - val_acc: 0.9925\n",
      "Epoch 17/50\n",
      " - 367s - loss: 0.0414 - acc: 0.9881 - val_loss: 0.0346 - val_acc: 0.9912\n",
      "Epoch 18/50\n",
      " - 371s - loss: 0.0370 - acc: 0.9890 - val_loss: 0.0437 - val_acc: 0.9902\n",
      "Epoch 19/50\n",
      " - 362s - loss: 0.0386 - acc: 0.9882 - val_loss: 0.0342 - val_acc: 0.9908\n",
      "Epoch 20/50\n",
      " - 298s - loss: 0.0341 - acc: 0.9899 - val_loss: 0.0386 - val_acc: 0.9889\n",
      "Epoch 21/50\n",
      " - 295s - loss: 0.0346 - acc: 0.9898 - val_loss: 0.0331 - val_acc: 0.9924\n",
      "Epoch 22/50\n",
      " - 297s - loss: 0.0358 - acc: 0.9891 - val_loss: 0.0352 - val_acc: 0.9905\n",
      "Epoch 23/50\n",
      " - 294s - loss: 0.0341 - acc: 0.9891 - val_loss: 0.0414 - val_acc: 0.9895\n",
      "Epoch 24/50\n",
      " - 296s - loss: 0.0321 - acc: 0.9905 - val_loss: 0.0295 - val_acc: 0.9918\n",
      "Epoch 25/50\n",
      " - 296s - loss: 0.0316 - acc: 0.9905 - val_loss: 0.0370 - val_acc: 0.9905\n",
      "Epoch 26/50\n",
      " - 298s - loss: 0.0325 - acc: 0.9900 - val_loss: 0.0340 - val_acc: 0.9915\n",
      "Epoch 27/50\n",
      " - 335s - loss: 0.0314 - acc: 0.9907 - val_loss: 0.0280 - val_acc: 0.9927\n",
      "Epoch 28/50\n",
      " - 314s - loss: 0.0319 - acc: 0.9910 - val_loss: 0.0285 - val_acc: 0.9919\n",
      "Epoch 29/50\n",
      " - 308s - loss: 0.0293 - acc: 0.9915 - val_loss: 0.0343 - val_acc: 0.9908\n",
      "Epoch 30/50\n",
      " - 309s - loss: 0.0282 - acc: 0.9912 - val_loss: 0.0388 - val_acc: 0.9900\n",
      "Epoch 31/50\n",
      " - 319s - loss: 0.0265 - acc: 0.9918 - val_loss: 0.0419 - val_acc: 0.9905\n",
      "Epoch 32/50\n",
      " - 309s - loss: 0.0277 - acc: 0.9914 - val_loss: 0.0356 - val_acc: 0.9929\n",
      "Epoch 33/50\n",
      " - 314s - loss: 0.0292 - acc: 0.9915 - val_loss: 0.0424 - val_acc: 0.9895\n",
      "Epoch 34/50\n",
      " - 315s - loss: 0.0274 - acc: 0.9921 - val_loss: 0.0315 - val_acc: 0.9924\n",
      "Epoch 35/50\n",
      " - 314s - loss: 0.0269 - acc: 0.9924 - val_loss: 0.0393 - val_acc: 0.9908\n",
      "Epoch 36/50\n",
      " - 315s - loss: 0.0274 - acc: 0.9916 - val_loss: 0.0343 - val_acc: 0.9908\n",
      "Epoch 37/50\n",
      " - 332s - loss: 0.0265 - acc: 0.9920 - val_loss: 0.0370 - val_acc: 0.9914\n",
      "Epoch 38/50\n",
      " - 361s - loss: 0.0241 - acc: 0.9924 - val_loss: 0.0418 - val_acc: 0.9906\n",
      "Epoch 39/50\n",
      " - 369s - loss: 0.0250 - acc: 0.9926 - val_loss: 0.0479 - val_acc: 0.9892\n",
      "Epoch 40/50\n",
      " - 360s - loss: 0.0265 - acc: 0.9918 - val_loss: 0.0393 - val_acc: 0.9911\n",
      "Epoch 41/50\n",
      " - 371s - loss: 0.0266 - acc: 0.9921 - val_loss: 0.0370 - val_acc: 0.9904\n",
      "Epoch 42/50\n",
      " - 374s - loss: 0.0263 - acc: 0.9921 - val_loss: 0.0264 - val_acc: 0.9933\n",
      "Epoch 43/50\n",
      " - 394s - loss: 0.0237 - acc: 0.9932 - val_loss: 0.0315 - val_acc: 0.9929\n",
      "Epoch 44/50\n",
      " - 376s - loss: 0.0269 - acc: 0.9919 - val_loss: 0.0338 - val_acc: 0.9918\n",
      "Epoch 45/50\n",
      " - 366s - loss: 0.0233 - acc: 0.9935 - val_loss: 0.0286 - val_acc: 0.9930\n",
      "Epoch 46/50\n",
      " - 373s - loss: 0.0216 - acc: 0.9937 - val_loss: 0.0328 - val_acc: 0.9919\n",
      "Epoch 47/50\n",
      " - 368s - loss: 0.0230 - acc: 0.9928 - val_loss: 0.0419 - val_acc: 0.9908\n",
      "Epoch 48/50\n",
      " - 294s - loss: 0.0214 - acc: 0.9939 - val_loss: 0.0329 - val_acc: 0.9919\n",
      "Epoch 49/50\n",
      " - 354s - loss: 0.0237 - acc: 0.9930 - val_loss: 0.0399 - val_acc: 0.9910\n",
      "Epoch 50/50\n",
      " - 429s - loss: 0.0210 - acc: 0.9938 - val_loss: 0.0333 - val_acc: 0.9925\n"
     ]
    },
    {
     "data": {
      "text/plain": [
       "<keras.callbacks.History at 0x23376c617b8>"
      ]
     },
     "execution_count": 46,
     "metadata": {},
     "output_type": "execute_result"
    }
   ],
   "source": [
    "cnn_model_augm.fit_generator(datagen.flow(X_tr, Y_tr_ohe, batch_size=32),\n",
    "                    steps_per_epoch=np.ceil(len(Y_tr_ohe) / 32), epochs=50, validation_data=(X_cv, Y_cv_ohe), callbacks=[es], verbose=2)"
   ]
  },
  {
   "cell_type": "code",
   "execution_count": 48,
   "metadata": {},
   "outputs": [
    {
     "name": "stdout",
     "output_type": "stream",
     "text": [
      "Accuracy =  0.9925\n"
     ]
    },
    {
     "data": {
      "image/png": "[encoded data removed]",
      "text/plain": [
       "<Figure size 1440x360 with 5 Axes>"
      ]
     },
     "metadata": {
      "needs_background": "light"
     },
     "output_type": "display_data"
    }
   ],
   "source": [
    "y_pred = np.argmax(cnn_model_augm.predict(np.array(X_cv)), axis=1)\n",
    "acc = np.sum(y_pred==Y_cv)/Y_cv.size\n",
    "print(\"Accuracy = \", acc)\n",
    "\n",
    "show_mistakes(y_pred, Y_cv)"
   ]
  },
  {
   "cell_type": "code",
   "execution_count": 49,
   "metadata": {},
   "outputs": [
    {
     "data": {
      "image/png": "[encoded data removed]",
      "text/plain": [
       "<Figure size 432x288 with 1 Axes>"
      ]
     },
     "metadata": {
      "needs_background": "light"
     },
     "output_type": "display_data"
    }
   ],
   "source": [
    "plt.plot(cnn_model_augm.history.history[\"acc\"])\n",
    "plt.plot(cnn_model_augm.history.history[\"val_acc\"])\n",
    "plt.show()"
   ]
  },
  {
   "cell_type": "code",
   "execution_count": 50,
   "metadata": {},
   "outputs": [
    {
     "name": "stdout",
     "output_type": "stream",
     "text": [
      "         label\n",
      "ImageId       \n",
      "1            2\n",
      "2            0\n",
      "3            9\n",
      "4            0\n",
      "5            3\n"
     ]
    }
   ],
   "source": [
    "y_test_pred_ohe = cnn_model_augm.predict(X_test_img)\n",
    "y_test_pred = np.argmax(y_test_pred_ohe, axis=1)\n",
    "submission = pd.DataFrame({\"ImageId\": np.arange(y_test_pred.size)+1, \"label\": y_test_pred})\n",
    "submission.set_index(\"ImageId\", inplace=True)\n",
    "print(submission.head())\n",
    "submission.to_csv('submission_MNIST_CNN3.csv')"
   ]
  },
  {
   "cell_type": "markdown",
   "metadata": {},
   "source": [
    "### Save model weights"
   ]
  },
  {
   "cell_type": "code",
   "execution_count": 51,
   "metadata": {},
   "outputs": [
    {
     "name": "stdout",
     "output_type": "stream",
     "text": [
      "Model saved to disk\n"
     ]
    }
   ],
   "source": [
    "cnn_model_augm.save_weights(\"cnn_model_augm.h5\")\n",
    "print(\"Model saved to disk\")"
   ]
  },
  {
   "cell_type": "code",
   "execution_count": null,
   "metadata": {},
   "outputs": [],
   "source": []
  }
 ],
 "metadata": {
  "kernelspec": {
   "display_name": "Python 3",
   "language": "python",
   "name": "python3"
  },
  "language_info": {
   "codemirror_mode": {
    "name": "ipython",
    "version": 3
   },
   "file_extension": ".py",
   "mimetype": "text/x-python",
   "name": "python",
   "nbconvert_exporter": "python",
   "pygments_lexer": "ipython3",
   "version": "3.6.7"
  }
 },
 "nbformat": 4,
 "nbformat_minor": 2
}
